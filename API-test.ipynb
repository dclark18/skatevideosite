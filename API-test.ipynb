{
 "cells": [
  {
   "cell_type": "code",
   "execution_count": 1,
   "id": "98bb87ac",
   "metadata": {},
   "outputs": [
    {
     "name": "stderr",
     "output_type": "stream",
     "text": [
      "/Library/Frameworks/Python.framework/Versions/3.7/lib/python3.7/site-packages/requests/__init__.py:104: RequestsDependencyWarning: urllib3 (1.26.9) or chardet (5.0.0)/charset_normalizer (2.0.12) doesn't match a supported version!\n",
      "  RequestsDependencyWarning)\n"
     ]
    },
    {
     "name": "stdout",
     "output_type": "stream",
     "text": [
      "{'data': [{'id': 3159, 'slug': 'loofgram', 'title': '#looflife - Loofgram', 'description': '#looflife is a video created by Adam Akins. The meaning of loof life is based around street skating, with the objective of raw fun. Primarily featuring the Uprise Skateshop crew out of Chicago, this vid also has a heavy dose of Parisian \"euro loof famille\".\\r\\nCheck out the hashtag \"#looflife\" on Instagram', 'is_active': True, 'image_url': 'https://assets.skatevideo.site/covers/loofgram.jpg', 'year': 2016, 'date': '2016-01-14T16:35:09+00:00', 'companies': [], 'category': {'id': 1, 'name': 'independent'}, 'filmmakers': [{'id': 785, 'name': 'Adam Akins', 'slug': 'adam-akins'}], 'skaters': []}, {'id': 3971, 'slug': '$$$', 'title': '$$$', 'description': '\"Another instant banger from Naquan Rollings filmed in San Francisco.\" -Skate Jawn. Additional filming: Otto Ray and Cody Thompson.', 'is_active': True, 'image_url': 'https://assets.skatevideo.site/covers/-2-812.jpg', 'year': 2022, 'date': '2022-02-25T22:43:53.229000+00:00', 'companies': [], 'category': {'id': 17, 'name': 'web'}, 'filmmakers': [{'id': 1049, 'name': 'Naquan Rollings', 'slug': 'naquan-rollings'}], 'skaters': [{'id': 14552, 'name': 'sadiq carrington', 'slug': 'sadiq-carrington'}, {'id': 14551, 'name': 'rob bootes', 'slug': 'rob-bootes'}, {'id': 13541, 'name': 'simmeon perryman', 'slug': 'simmeon-perryman'}, {'id': 12613, 'name': 'mustafa abrams (\"moose\")', 'slug': 'mustafa-abrams-moose'}, {'id': 13181, 'name': 'jp escobar', 'slug': 'jp-escobar'}, {'id': 12035, 'name': 'christian henry', 'slug': 'christian-henry'}, {'id': 11022, 'name': 'clint beswick', 'slug': 'clint-beswick'}, {'id': 11528, 'name': 'tanner napper', 'slug': 'tanner-napper'}]}, {'id': 3595, 'slug': 'slave-radio-silence', 'title': '$lave - Radio Silence', 'description': '', 'is_active': True, 'image_url': 'https://assets.skatevideo.site/covers/slave-radio-silence.jpg', 'year': 2019, 'date': '2019-12-02T19:26:42+00:00', 'companies': [{'id': 534, 'name': 'slave skateboards', 'slug': 'slave-skateboards'}], 'category': {'id': 11, 'name': 'full-length'}, 'filmmakers': [], 'skaters': [{'id': 2705, 'name': 'pat burke', 'slug': 'pat-burke'}, {'id': 203, 'name': 'anthony schultz', 'slug': 'anthony-schultz'}, {'id': 12429, 'name': 'noah lora', 'slug': 'noah-lora'}, {'id': 3536, 'name': 'jake hill', 'slug': 'jake-hill'}, {'id': 6880, 'name': 'aJ zavala', 'slug': 'aJ-zavala'}, {'id': 4025, 'name': 'danny dicola', 'slug': 'danny-dicola'}]}, {'id': 3262, 'slug': 'skee-ball', 'title': '/SKEE-BALL/', 'description': '', 'is_active': True, 'image_url': 'https://skatevideo.site/svs-192x192.png', 'year': 2016, 'date': '2016-10-31T22:57:21+00:00', 'companies': [], 'category': {'id': 17, 'name': 'web'}, 'filmmakers': [{'id': 639, 'name': 'Peter Jones', 'slug': 'peter-jones'}], 'skaters': [{'id': 11209, 'name': 'hayden genosky', 'slug': 'hayden-genosky'}, {'id': 8656, 'name': 'peter jones', 'slug': 'peter-jones'}, {'id': 11031, 'name': 'enzo obnamia', 'slug': 'enzo-obnamia'}, {'id': 5578, 'name': 'jimmy goodman', 'slug': 'jimmy-goodman'}, {'id': 7301, 'name': 'grady moquin', 'slug': 'grady-moquin'}, {'id': 11210, 'name': 'grant patronik', 'slug': 'grant-patronik'}, {'id': 5580, 'name': 'jamie owens', 'slug': 'jamie-owens'}]}, {'id': 2071, 'slug': '10000-kilometers', 'title': '10,000 Kilometers', 'description': '10,000 Kilometers is a skateboard documentary filmed on the Trans-Siberian Railway. It documents the two month long journey of about 10 people who traveled from Moscow to Hong Kong only by train and skateboarded the unique architecture of various cities in Russia, Siberia, Mongolia, and China along the way. It is not just a skateboarding film. 10,000 Kilometers covers and documents all the trips entertaining storeis and adventures with detailed commentaries and interviews.', 'is_active': True, 'image_url': 'https://assets.skatevideo.site/covers/10000-kilometers.jpg', 'year': 2010, 'date': None, 'companies': [{'id': 419, 'name': 'visual traveling', 'slug': 'visual-traveling'}], 'category': {'id': 4, 'name': 'documentary'}, 'filmmakers': [{'id': 68, 'name': 'Patrik Wallner', 'slug': 'patrik-wallner'}], 'skaters': [{'id': 5732, 'name': 'john tanner', 'slug': 'john-tanner'}, {'id': 3488, 'name': 'dan zvereff', 'slug': 'dan-zvereff'}, {'id': 5466, 'name': 'stas provotorov', 'slug': 'stas-provotorov'}, {'id': 6131, 'name': 'danny hochman', 'slug': 'danny-hochman'}, {'id': 2271, 'name': 'dan cates', 'slug': 'dan-cates'}, {'id': 6132, 'name': 'laurence keefe', 'slug': 'laurence-keefe'}, {'id': 289, 'name': 'michael mackrodt', 'slug': 'michael-mackrodt'}, {'id': 5499, 'name': 'lesha naymushin', 'slug': 'lesha-naymushin'}]}, {'id': 2446, 'slug': 'de-honderd-video', 'title': '100% - De Honderd Video', 'description': None, 'is_active': True, 'image_url': 'https://assets.skatevideo.site/covers/de-honderd-video.jpg', 'year': 2012, 'date': None, 'companies': [], 'category': {'id': 7, 'name': 'skateshop'}, 'filmmakers': [], 'skaters': [{'id': 7668, 'name': 'hein schellekens', 'slug': 'hein-schellekens'}, {'id': 7669, 'name': 'remco bens', 'slug': 'remco-bens'}, {'id': 7670, 'name': 'nick bax', 'slug': 'nick-bax'}, {'id': 7671, 'name': 'job van der linden', 'slug': 'job-van-der-linden'}, {'id': 7672, 'name': 'jeroen sars', 'slug': 'jeroen-sars'}, {'id': 7673, 'name': 'pim de rijk', 'slug': 'pim-de-rijk'}, {'id': 7674, 'name': 'stefan peters', 'slug': 'stefan-peters'}, {'id': 7675, 'name': 'willem van dijk', 'slug': 'willem-van-dijk'}, {'id': 7676, 'name': 'othmar van rijswijk', 'slug': 'othmar-van-rijswijk'}, {'id': 7677, 'name': 'Daan van der Linden', 'slug': 'Daan-van-der-Linden'}]}, {'id': 551, 'slug': '101-falling-down', 'title': '101 - Falling Down', 'description': '', 'is_active': True, 'image_url': 'https://assets.skatevideo.site/covers/101-falling-down-34780.jpeg', 'year': 1993, 'date': None, 'companies': [{'id': 141, 'name': '101', 'slug': '101'}], 'category': {'id': 2, 'name': 'promo'}, 'filmmakers': [], 'skaters': [{'id': 40, 'name': 'eric koston', 'slug': 'eric-koston'}, {'id': 711, 'name': 'adam mcNatt', 'slug': 'adam-mcNatt'}, {'id': 474, 'name': 'gabriel rodriguez', 'slug': 'gabriel-rodriguez'}, {'id': 713, 'name': 'andy stone', 'slug': 'andy-stone'}]}, {'id': 1304, 'slug': '101-snuff', 'title': '101 - Snuff', 'description': '\"Released during the tail end of ‘93, 101’s third promo video, Snuff, was a sleeper hit...Packaged in surplus VHS boxes procured from the manufacturer and embellished with a single sticker, presumably printed at a Kinkos, Snuff’s terse length had the feral force of a hot mixtape...Snuff is 101 hitting a new stride, with Dill and Iannucci showcasing skateboarding’s future, albeit without any intention. Cleaner, leaner, and an emphasis on precision was key, as street skating was emerging from its awkward \\'flip and pray\\' phase and its equally embarrassing fashion.\" -Anthony G. Pappalardo (Transworld, \"101 Snuff: 25 Years Later\")', 'is_active': True, 'image_url': 'https://assets.skatevideo.site/covers/101-snuff-59335.webp', 'year': 1993, 'date': None, 'companies': [{'id': 141, 'name': '101', 'slug': '101'}], 'category': {'id': 2, 'name': 'promo'}, 'filmmakers': [], 'skaters': [{'id': 713, 'name': 'andy stone', 'slug': 'andy-stone'}, {'id': 146, 'name': 'jason dill', 'slug': 'jason-dill'}, {'id': 474, 'name': 'gabriel rodriguez', 'slug': 'gabriel-rodriguez'}, {'id': 45, 'name': 'gino iannucci', 'slug': 'gino-iannucci'}, {'id': 711, 'name': 'adam mcNatt', 'slug': 'adam-mcNatt'}]}, {'id': 534, 'slug': '101-wwii-report-promo', 'title': '101 - WWII Report', 'description': '', 'is_active': True, 'image_url': 'https://assets.skatevideo.site/covers/101-wwii-report-promo-37578.jpg', 'year': 1992, 'date': None, 'companies': [{'id': 141, 'name': '101', 'slug': '101'}], 'category': {'id': 2, 'name': 'promo'}, 'filmmakers': [], 'skaters': [{'id': 40, 'name': 'eric koston', 'slug': 'eric-koston'}, {'id': 474, 'name': 'gabriel rodriguez', 'slug': 'gabriel-rodriguez'}, {'id': 413, 'name': 'kris markovich', 'slug': 'kris-markovich'}, {'id': 711, 'name': 'adam mcNatt', 'slug': 'adam-mcNatt'}, {'id': 712, 'name': 'leigh peterson', 'slug': 'leigh-peterson'}]}, {'id': 1413, 'slug': '1031-bleed-for-me', 'title': '1031 - Bleed For Me', 'description': '', 'is_active': True, 'image_url': 'https://assets.skatevideo.site/covers/1031-bleed-for-me-64977.jpg', 'year': 2006, 'date': None, 'companies': [{'id': 390, 'name': '1031 Skateboards', 'slug': '1031-skateboards'}], 'category': {'id': 11, 'name': 'full-length'}, 'filmmakers': [{'id': 313, 'name': 'Kenny Sanders', 'slug': 'kenny-sanders'}, {'id': 314, 'name': 'Kristian Svitak', 'slug': 'kristian-svitak'}], 'skaters': [{'id': 971, 'name': 'chad knight', 'slug': 'chad-knight'}, {'id': 3196, 'name': 'drew dezort', 'slug': 'drew-dezort'}, {'id': 853, 'name': 'jhovany vidal', 'slug': 'jhovany-vidal'}, {'id': 419, 'name': 'kristian svitak', 'slug': 'kristian-svitak'}, {'id': 684, 'name': 'nate roemer', 'slug': 'nate-roemer'}, {'id': 3537, 'name': 'ben raybourn', 'slug': 'ben-raybourn'}]}, {'id': 2237, 'slug': '1031-get-bent', 'title': '1031 - Get Bent', 'description': None, 'is_active': True, 'image_url': 'https://assets.skatevideo.site/covers/1031-get-bent-42786.jpg', 'year': 2011, 'date': None, 'companies': [{'id': 390, 'name': '1031 Skateboards', 'slug': '1031-skateboards'}], 'category': {'id': 11, 'name': 'full-length'}, 'filmmakers': [{'id': 311, 'name': 'Adam Kure', 'slug': 'adam-kure'}], 'skaters': [{'id': 419, 'name': 'kristian svitak', 'slug': 'kristian-svitak'}, {'id': 971, 'name': 'chad knight', 'slug': 'chad-knight'}, {'id': 836, 'name': 'dan nepscha', 'slug': 'dan-nepscha'}, {'id': 3538, 'name': 'greg harbour', 'slug': 'greg-harbour'}, {'id': 3344, 'name': 'donovan rice', 'slug': 'donovan-rice'}, {'id': 3494, 'name': 'brian kennedy', 'slug': 'brian-kennedy'}, {'id': 6741, 'name': 'rick rossi', 'slug': 'rick-rossi'}, {'id': 4846, 'name': 'fritz mead', 'slug': 'fritz-mead'}, {'id': 6540, 'name': 'cyril jackson', 'slug': 'cyril-jackson'}, {'id': 260, 'name': 'jason adams (\"the kid\")', 'slug': 'jason-adams-the-kid'}]}, {'id': 1980, 'slug': '1031-heavy-mellow', 'title': '1031 - Heavy Mellow', 'description': None, 'is_active': True, 'image_url': 'https://assets.skatevideo.site/covers/1031-heavy-mellow-1725.png', 'year': 2009, 'date': None, 'companies': [{'id': 390, 'name': '1031 Skateboards', 'slug': '1031-skateboards'}], 'category': {'id': 11, 'name': 'full-length'}, 'filmmakers': [{'id': 312, 'name': 'Jeff Biedenbach', 'slug': 'jeff-biedenbach'}], 'skaters': [{'id': 419, 'name': 'kristian svitak', 'slug': 'kristian-svitak'}, {'id': 971, 'name': 'chad knight', 'slug': 'chad-knight'}, {'id': 3537, 'name': 'ben raybourn', 'slug': 'ben-raybourn'}, {'id': 836, 'name': 'dan nepscha', 'slug': 'dan-nepscha'}, {'id': 3538, 'name': 'greg harbour', 'slug': 'greg-harbour'}, {'id': 3494, 'name': 'brian kennedy', 'slug': 'brian-kennedy'}, {'id': 3344, 'name': 'donovan rice', 'slug': 'donovan-rice'}, {'id': 5768, 'name': 'greg fountain', 'slug': 'greg-fountain'}, {'id': 2114, 'name': 'monico candelaria', 'slug': 'monico-candelaria'}]}, {'id': 2739, 'slug': '1031-kill-the-kool', 'title': '1031 - Kill The Kool', 'description': '', 'is_active': True, 'image_url': 'https://assets.skatevideo.site/covers/1031-kill-the-kool-28033.jpg', 'year': 2013, 'date': '2013-11-02T22:16:47+00:00', 'companies': [{'id': 390, 'name': '1031 Skateboards', 'slug': '1031-skateboards'}], 'category': {'id': 2, 'name': 'promo'}, 'filmmakers': [{'id': 311, 'name': 'Adam Kure', 'slug': 'adam-kure'}], 'skaters': [{'id': 6741, 'name': 'rick rossi', 'slug': 'rick-rossi'}, {'id': 3980, 'name': 'matt tomasello', 'slug': 'matt-tomasello'}, {'id': 5566, 'name': 'trent hazelwood', 'slug': 'trent-hazelwood'}]}, {'id': 1291, 'slug': '1031-turn-up-the-hell', 'title': '1031 - Turn Up The Hell', 'description': '', 'is_active': True, 'image_url': 'https://assets.skatevideo.site/covers/1031-turn-up-the-hell-59026.jpg', 'year': 2008, 'date': None, 'companies': [{'id': 390, 'name': '1031 Skateboards', 'slug': '1031-skateboards'}], 'category': {'id': 11, 'name': 'full-length'}, 'filmmakers': [{'id': 312, 'name': 'Jeff Biedenbach', 'slug': 'jeff-biedenbach'}], 'skaters': [{'id': 3537, 'name': 'ben raybourn', 'slug': 'ben-raybourn'}, {'id': 3494, 'name': 'brian kennedy', 'slug': 'brian-kennedy'}, {'id': 971, 'name': 'chad knight', 'slug': 'chad-knight'}, {'id': 836, 'name': 'dan nepscha', 'slug': 'dan-nepscha'}, {'id': 3538, 'name': 'greg harbour', 'slug': 'greg-harbour'}, {'id': 419, 'name': 'kristian svitak', 'slug': 'kristian-svitak'}]}, {'id': 3996, 'slug': '10c41-22-hiit', 'title': '10C41 - 22 $HiiT', 'description': '10C41 crew video filmed in Los Angeles, California.', 'is_active': True, 'image_url': 'https://assets.skatevideo.site/covers/10c41-22-hiit-46921.jpg', 'year': 2022, 'date': '2022-03-02T23:05:22.395810+00:00', 'companies': [{'id': 1007, 'name': '10C41', 'slug': '10c41'}], 'category': {'id': 14, 'name': 'crew'}, 'filmmakers': [{'id': 1084, 'name': '22K', 'slug': '22k'}], 'skaters': [{'id': 13093, 'name': 'junior gutierrez', 'slug': 'junior-gutierrez'}, {'id': 14708, 'name': 'landö magik', 'slug': 'lando-magik'}, {'id': 13597, 'name': 'vincent nava', 'slug': 'vincent-nava'}, {'id': 13598, 'name': 'kid bronze', 'slug': 'kid-bronze'}, {'id': 13599, 'name': 'andre marino', 'slug': 'andre-marino'}, {'id': 13600, 'name': 'killagomez', 'slug': 'killagomez'}, {'id': 13601, 'name': 'juice', 'slug': 'juice'}]}, {'id': 3811, 'slug': '10c41-middle-sckool', 'title': '10C41 - Middle Sckool', 'description': '10C41 crew video filmed in Los Angeles, California.', 'is_active': True, 'image_url': 'https://assets.skatevideo.site/covers/10c41-middle-sckool-25697.jpg', 'year': 2021, 'date': '2022-01-18T23:19:16.975727+00:00', 'companies': [{'id': 1007, 'name': '10C41', 'slug': '10c41'}], 'category': {'id': 14, 'name': 'crew'}, 'filmmakers': [{'id': 1084, 'name': '22K', 'slug': '22k'}], 'skaters': [{'id': 13093, 'name': 'junior gutierrez', 'slug': 'junior-gutierrez'}, {'id': 13597, 'name': 'vincent nava', 'slug': 'vincent-nava'}, {'id': 13598, 'name': 'kid bronze', 'slug': 'kid-bronze'}, {'id': 13599, 'name': 'andre marino', 'slug': 'andre-marino'}, {'id': 13600, 'name': 'killagomez', 'slug': 'killagomez'}, {'id': 13601, 'name': 'juice', 'slug': 'juice'}]}, {'id': 3812, 'slug': '10c41-trailblazer', 'title': '10C41 - Trailblazer', 'description': '10C41 crew video filmed in Los Angeles, California.', 'is_active': True, 'image_url': 'https://assets.skatevideo.site/covers/10c41-trailblazer-8873.jpg', 'year': 2019, 'date': '2022-01-19T01:37:23.898155+00:00', 'companies': [{'id': 1007, 'name': '10C41', 'slug': '10c41'}], 'category': {'id': 14, 'name': 'crew'}, 'filmmakers': [{'id': 1084, 'name': '22K', 'slug': '22k'}], 'skaters': [{'id': 13597, 'name': 'vincent nava', 'slug': 'vincent-nava'}, {'id': 13598, 'name': 'kid bronze', 'slug': 'kid-bronze'}, {'id': 13599, 'name': 'andre marino', 'slug': 'andre-marino'}, {'id': 13600, 'name': 'killagomez', 'slug': 'killagomez'}]}, {'id': 4099, 'slug': '12sf-dj-rosa-and-josh-paz', 'title': '12SF - DJ Rosa and Josh Paz', 'description': 'New shared part from DJ Rosa and Josh Paz.\\nFilmed in the San Francisco Bay Area by Jon Rezonable. \\n', 'is_active': True, 'image_url': 'https://assets.skatevideo.site/covers/12sf-dj-rosa-and-josh-paz-1886.jpg', 'year': 2022, 'date': '2022-05-13T01:06:41.751054+00:00', 'companies': [{'id': 1052, 'name': '12SF Skateboards', 'slug': '12sf-skateboards'}], 'category': {'id': 17, 'name': 'web'}, 'filmmakers': [{'id': 1371, 'name': 'Jon Rezonable', 'slug': 'jon-rezonable'}], 'skaters': [{'id': 15405, 'name': 'josh paz', 'slug': 'josh-paz'}, {'id': 15404, 'name': 'dj rosa', 'slug': 'dj-rosa'}]}, {'id': 335, 'slug': '16-below', 'title': '16 Below Volume 1, First Born', 'description': '\"Welcome to 16 Below Volume 1, \"First Born\". The first ever DVD highlighting some of the most talented skateboarding youth in the world ages 16 and Below (at time of filming). 16 Below has a select crew of filmers around the globe that are focused on capturing the progression of youth talent that is 16 and below. Many of the skaters featured in Volume 1 have already started their rise to fame - big props to Paul Rodriguez for his ?S team debut! See the youth of today performing the newest tricks at all the best spots. Check out tomorrow\\'s skateboarding stars from the United States, Europe and Japan.\"', 'is_active': True, 'image_url': 'https://assets.skatevideo.site/covers/16-below.jpg', 'year': 2001, 'date': None, 'companies': [{'id': 951, 'name': 'white knucle extreme', 'slug': 'white-knucle-extreme'}], 'category': {'id': 1, 'name': 'independent'}, 'filmmakers': [], 'skaters': [{'id': 2101, 'name': 'thomas aezer', 'slug': 'thomas-aezer'}, {'id': 2103, 'name': 'zack crater', 'slug': 'zack-crater'}, {'id': 82, 'name': 'paul rodriguez (\"p-rod\")', 'slug': 'paul-rodriguez-p-rod'}, {'id': 1556, 'name': 'jeremiah vance', 'slug': 'jeremiah-vance'}, {'id': 853, 'name': 'jhovany vidal', 'slug': 'jhovany-vidal'}, {'id': 85, 'name': 'raymond molinar', 'slug': 'raymond-molinar'}, {'id': 248, 'name': 'terry kennedy', 'slug': 'terry-kennedy'}, {'id': 403, 'name': 'jason jones', 'slug': 'jason-jones'}, {'id': 677, 'name': 'devin brankovich', 'slug': 'devin-brankovich'}]}, {'id': 646, 'slug': '1984-let-it-bleed', 'title': '1984 - Let It Bleed', 'description': '', 'is_active': True, 'image_url': 'https://assets.skatevideo.site/covers/1984-let-it-bleed.jpg', 'year': 2001, 'date': None, 'companies': [], 'category': None, 'filmmakers': [], 'skaters': [{'id': 190, 'name': 'tony trujillo (\"tnt\")', 'slug': 'tony-trujillo-tnt'}, {'id': 734, 'name': 'wes tonascia', 'slug': 'wes-tonascia'}, {'id': 733, 'name': 'chris swanson', 'slug': 'chris-swanson'}, {'id': 171, 'name': 'pat rakestraw', 'slug': 'pat-rakestraw'}, {'id': 575, 'name': 'john ponts', 'slug': 'john-ponts'}, {'id': 568, 'name': 'al partanen', 'slug': 'al-partanen'}, {'id': 184, 'name': 'steve nesser', 'slug': 'steve-nesser'}, {'id': 731, 'name': 'crazy eddie nemeth', 'slug': 'crazy-eddie-nemeth'}, {'id': 730, 'name': 'tony loco', 'slug': 'tony-loco'}, {'id': 571, 'name': 'sam hitz', 'slug': 'sam-hitz'}, {'id': 728, 'name': 'neil heddings', 'slug': 'neil-heddings'}, {'id': 727, 'name': 'aaron harrison', 'slug': 'aaron-harrison'}, {'id': 726, 'name': 'jerry haffner', 'slug': 'jerry-haffner'}, {'id': 725, 'name': 'ricky espinoza', 'slug': 'ricky-espinoza'}, {'id': 724, 'name': 'eric dressen', 'slug': 'eric-dressen'}, {'id': 118, 'name': 'chet childress', 'slug': 'chet-childress'}, {'id': 260, 'name': 'jason adams (\"the kid\")', 'slug': 'jason-adams-the-kid'}]}, {'id': 1894, 'slug': '2-years-of-joy', 'title': '2 Years of Joy', 'description': None, 'is_active': True, 'image_url': 'https://assets.skatevideo.site/covers/two-years-of-joy.jpg', 'year': 2010, 'date': None, 'companies': [], 'category': {'id': 1, 'name': 'independent'}, 'filmmakers': [{'id': 167, 'name': 'Martin Vadet', 'slug': 'martin-vadet'}], 'skaters': [{'id': 5388, 'name': 'karsten kleppan', 'slug': 'karsten-kleppan'}, {'id': 5389, 'name': 'henrik lund', 'slug': 'henrik-lund'}, {'id': 5390, 'name': 'kim karlsen', 'slug': 'kim-karlsen'}, {'id': 5391, 'name': 'jan kongstein', 'slug': 'jan-kongstein'}, {'id': 5392, 'name': 'marius heigard', 'slug': 'marius-heigard'}, {'id': 5393, 'name': 'leiv svindland', 'slug': 'leiv-svindland'}, {'id': 5395, 'name': 'august engmark', 'slug': 'august-engmark'}, {'id': 5396, 'name': 'oystein vadet', 'slug': 'oystein-vadet'}, {'id': 5397, 'name': 'anders nilsen', 'slug': 'anders-nilsen'}, {'id': 5398, 'name': 'daniel spiro', 'slug': 'daniel-spiro'}, {'id': 5399, 'name': 'steffen austerheim', 'slug': 'steffen-austerheim'}, {'id': 4472, 'name': 'Luis De Los Reyes', 'slug': 'Luis-De-Los-Reyes'}, {'id': 12242, 'name': 'gustav tønnesen', 'slug': 'gustav-tnnesen'}]}, {'id': 2502, 'slug': 'twentyten', 'title': '20 - 10', 'description': None, 'is_active': True, 'image_url': 'https://assets.skatevideo.site/covers/twentyten.jpg', 'year': 2010, 'date': None, 'companies': [], 'category': {'id': 1, 'name': 'independent'}, 'filmmakers': [{'id': 565, 'name': 'Vadim Tsykynovsky', 'slug': 'vadim-tsykynovsky'}], 'skaters': [{'id': 7884, 'name': 'david grigoryan', 'slug': 'david-grigoryan'}, {'id': 7890, 'name': 'vasya kordish', 'slug': 'vasya-kordish'}, {'id': 7891, 'name': 'nikita karas', 'slug': 'nikita-karas'}, {'id': 7892, 'name': 'sasha makeev', 'slug': 'sasha-makeev'}, {'id': 7893, 'name': 'anton bolokan', 'slug': 'anton-bolokan'}, {'id': 7894, 'name': 'andrey polishyk', 'slug': 'andrey-polishyk'}, {'id': 7895, 'name': 'kirrill shevchenko', 'slug': 'kirrill-shevchenko'}, {'id': 7896, 'name': 'denis baluk', 'slug': 'denis-baluk'}, {'id': 7897, 'name': 'vadim tsykynovsky', 'slug': 'vadim-tsykynovsky'}]}, {'id': 2503, 'slug': 'twentyeleven', 'title': '20 - 11', 'description': None, 'is_active': True, 'image_url': 'https://assets.skatevideo.site/covers/twentyeleven.jpg', 'year': 2011, 'date': None, 'companies': [], 'category': {'id': 1, 'name': 'independent'}, 'filmmakers': [{'id': 565, 'name': 'Vadim Tsykynovsky', 'slug': 'vadim-tsykynovsky'}], 'skaters': [{'id': 7897, 'name': 'vadim tsykynovsky', 'slug': 'vadim-tsykynovsky'}, {'id': 7898, 'name': 'artem yacevuk', 'slug': 'artem-yacevuk'}, {'id': 7892, 'name': 'sasha makeev', 'slug': 'sasha-makeev'}, {'id': 7899, 'name': 'ilya pushnev', 'slug': 'ilya-pushnev'}, {'id': 7888, 'name': 'sasha petin', 'slug': 'sasha-petin'}, {'id': 7896, 'name': 'denis baluk', 'slug': 'denis-baluk'}, {'id': 3655, 'name': 'andrey rijov', 'slug': 'andrey-rijov'}, {'id': 7884, 'name': 'david grigoryan', 'slug': 'david-grigoryan'}]}, {'id': 2501, 'slug': 'twentytwelve', 'title': '20 - 12', 'description': None, 'is_active': True, 'image_url': 'https://assets.skatevideo.site/covers/twentytwelve.jpg', 'year': 2012, 'date': None, 'companies': [], 'category': {'id': 1, 'name': 'independent'}, 'filmmakers': [{'id': 565, 'name': 'Vadim Tsykynovsky', 'slug': 'vadim-tsykynovsky'}], 'skaters': [{'id': 3655, 'name': 'andrey rijov', 'slug': 'andrey-rijov'}, {'id': 7884, 'name': 'david grigoryan', 'slug': 'david-grigoryan'}, {'id': 7885, 'name': 'andrey ivchenko', 'slug': 'andrey-ivchenko'}, {'id': 7886, 'name': 'andrey sobol', 'slug': 'andrey-sobol'}, {'id': 7887, 'name': 'oleg bagirov', 'slug': 'oleg-bagirov'}, {'id': 7888, 'name': 'sasha petin', 'slug': 'sasha-petin'}, {'id': 7889, 'name': 'vlad dorogoi', 'slug': 'vlad-dorogoi'}]}, {'id': 2686, 'slug': '2b2h', 'title': '2B2H', 'description': '', 'is_active': True, 'image_url': 'https://assets.skatevideo.site/covers/2b2h.jpg', 'year': 2013, 'date': '2013-05-23T05:39:26+00:00', 'companies': [{'id': 793, 'name': '2brian2handle', 'slug': '2brian2handle'}], 'category': {'id': 11, 'name': 'full-length'}, 'filmmakers': [{'id': 666, 'name': 'Dennis Gram', 'slug': 'dennis-gram'}], 'skaters': [{'id': 8880, 'name': 'mads christensen', 'slug': 'mads-christensen'}, {'id': 8881, 'name': 'mathias hernandez', 'slug': 'mathias-hernandez'}, {'id': 8882, 'name': 'dan ray', 'slug': 'dan-ray'}, {'id': 8883, 'name': 'dennis gram', 'slug': 'dennis-gram'}, {'id': 8884, 'name': 'martin christensen', 'slug': 'martin-christensen'}, {'id': 8885, 'name': 'kern handler', 'slug': 'kern-handler'}, {'id': 3967, 'name': 'rene villumsen', 'slug': 'rene-villumsen'}, {'id': 8498, 'name': 'jonas daater', 'slug': 'jonas-daater'}]}], 'meta': {'page_count': 155, 'total_items': 3863}}\n"
     ]
    }
   ],
   "source": [
    "from requests import Request, Session\n",
    "from requests.exceptions import ConnectionError, Timeout, TooManyRedirects\n",
    "import json\n",
    "\n",
    "url = 'https://www.skatevideosite.com/api/videos'\n",
    "parameters = {\n",
    "    'start': '1',\n",
    "    'limit': '10'\n",
    "}\n",
    "headers = {\n",
    "    'Accepts' : 'text/html,application/xhtml+xml,application/xml;q=0.9,image/avif,image/webp,*/*;q=0.8',\n",
    "}\n",
    "\n",
    "session = Session()\n",
    "session.headers.update(headers)\n",
    "\n",
    "try:\n",
    "    response = session.get(url, params=parameters)\n",
    "    data = json.loads(response.text)\n",
    "    print(data)\n",
    "except (Connectionerror, Timeout, TooManyRedirects) as e:\n",
    "    print(e)"
   ]
  },
  {
   "cell_type": "code",
   "execution_count": 2,
   "id": "e95bf698",
   "metadata": {},
   "outputs": [
    {
     "data": {
      "text/plain": [
       "dict"
      ]
     },
     "execution_count": 2,
     "metadata": {},
     "output_type": "execute_result"
    }
   ],
   "source": [
    "type(data)"
   ]
  },
  {
   "cell_type": "code",
   "execution_count": 7,
   "id": "2d31b0fe",
   "metadata": {},
   "outputs": [],
   "source": [
    "import pandas as pd\n",
    "\n",
    "pd.set_option('display.max_columns', None)"
   ]
  },
  {
   "cell_type": "code",
   "execution_count": 45,
   "id": "ac6a20ac",
   "metadata": {},
   "outputs": [
    {
     "data": {
      "text/html": [
       "<div>\n",
       "<style scoped>\n",
       "    .dataframe tbody tr th:only-of-type {\n",
       "        vertical-align: middle;\n",
       "    }\n",
       "\n",
       "    .dataframe tbody tr th {\n",
       "        vertical-align: top;\n",
       "    }\n",
       "\n",
       "    .dataframe thead th {\n",
       "        text-align: right;\n",
       "    }\n",
       "</style>\n",
       "<table border=\"1\" class=\"dataframe\">\n",
       "  <thead>\n",
       "    <tr style=\"text-align: right;\">\n",
       "      <th></th>\n",
       "      <th>id</th>\n",
       "      <th>name</th>\n",
       "      <th>slug</th>\n",
       "      <th>title</th>\n",
       "      <th>is_active</th>\n",
       "      <th>year</th>\n",
       "      <th>date</th>\n",
       "      <th>skaters</th>\n",
       "    </tr>\n",
       "  </thead>\n",
       "  <tbody>\n",
       "    <tr>\n",
       "      <th>0</th>\n",
       "      <td>534</td>\n",
       "      <td>slave skateboards</td>\n",
       "      <td>slave-skateboards</td>\n",
       "      <td>$lave - Radio Silence</td>\n",
       "      <td>True</td>\n",
       "      <td>2019</td>\n",
       "      <td>2019-12-02T19:26:42+00:00</td>\n",
       "      <td>[{'id': 2705, 'name': 'pat burke', 'slug': 'pa...</td>\n",
       "    </tr>\n",
       "    <tr>\n",
       "      <th>1</th>\n",
       "      <td>419</td>\n",
       "      <td>visual traveling</td>\n",
       "      <td>visual-traveling</td>\n",
       "      <td>10,000 Kilometers</td>\n",
       "      <td>True</td>\n",
       "      <td>2010</td>\n",
       "      <td>None</td>\n",
       "      <td>[{'id': 5732, 'name': 'john tanner', 'slug': '...</td>\n",
       "    </tr>\n",
       "    <tr>\n",
       "      <th>2</th>\n",
       "      <td>141</td>\n",
       "      <td>101</td>\n",
       "      <td>101</td>\n",
       "      <td>101 - Falling Down</td>\n",
       "      <td>True</td>\n",
       "      <td>1993</td>\n",
       "      <td>None</td>\n",
       "      <td>[{'id': 40, 'name': 'eric koston', 'slug': 'er...</td>\n",
       "    </tr>\n",
       "    <tr>\n",
       "      <th>3</th>\n",
       "      <td>141</td>\n",
       "      <td>101</td>\n",
       "      <td>101</td>\n",
       "      <td>101 - Snuff</td>\n",
       "      <td>True</td>\n",
       "      <td>1993</td>\n",
       "      <td>None</td>\n",
       "      <td>[{'id': 713, 'name': 'andy stone', 'slug': 'an...</td>\n",
       "    </tr>\n",
       "    <tr>\n",
       "      <th>4</th>\n",
       "      <td>141</td>\n",
       "      <td>101</td>\n",
       "      <td>101</td>\n",
       "      <td>101 - WWII Report</td>\n",
       "      <td>True</td>\n",
       "      <td>1992</td>\n",
       "      <td>None</td>\n",
       "      <td>[{'id': 40, 'name': 'eric koston', 'slug': 'er...</td>\n",
       "    </tr>\n",
       "  </tbody>\n",
       "</table>\n",
       "</div>"
      ],
      "text/plain": [
       "    id               name               slug                  title is_active  \\\n",
       "0  534  slave skateboards  slave-skateboards  $lave - Radio Silence      True   \n",
       "1  419   visual traveling   visual-traveling      10,000 Kilometers      True   \n",
       "2  141                101                101     101 - Falling Down      True   \n",
       "3  141                101                101            101 - Snuff      True   \n",
       "4  141                101                101      101 - WWII Report      True   \n",
       "\n",
       "   year                       date  \\\n",
       "0  2019  2019-12-02T19:26:42+00:00   \n",
       "1  2010                       None   \n",
       "2  1993                       None   \n",
       "3  1993                       None   \n",
       "4  1992                       None   \n",
       "\n",
       "                                             skaters  \n",
       "0  [{'id': 2705, 'name': 'pat burke', 'slug': 'pa...  \n",
       "1  [{'id': 5732, 'name': 'john tanner', 'slug': '...  \n",
       "2  [{'id': 40, 'name': 'eric koston', 'slug': 'er...  \n",
       "3  [{'id': 713, 'name': 'andy stone', 'slug': 'an...  \n",
       "4  [{'id': 40, 'name': 'eric koston', 'slug': 'er...  "
      ]
     },
     "execution_count": 45,
     "metadata": {},
     "output_type": "execute_result"
    }
   ],
   "source": [
    "df_companies = pd.json_normalize(data= data['data'], record_path = 'companies', \n",
    "                                meta = ['title', 'is_active', 'year', 'date', 'skaters'])\n",
    "\n",
    "df_companies.head()"
   ]
  },
  {
   "cell_type": "code",
   "execution_count": null,
   "id": "4c95b192",
   "metadata": {},
   "outputs": [],
   "source": []
  }
 ],
 "metadata": {
  "kernelspec": {
   "display_name": "Python 3 (ipykernel)",
   "language": "python",
   "name": "python3"
  },
  "language_info": {
   "codemirror_mode": {
    "name": "ipython",
    "version": 3
   },
   "file_extension": ".py",
   "mimetype": "text/x-python",
   "name": "python",
   "nbconvert_exporter": "python",
   "pygments_lexer": "ipython3",
   "version": "3.7.9"
  }
 },
 "nbformat": 4,
 "nbformat_minor": 5
}
